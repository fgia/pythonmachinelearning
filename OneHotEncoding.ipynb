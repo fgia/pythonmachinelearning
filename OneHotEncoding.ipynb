{
  "nbformat": 4,
  "nbformat_minor": 0,
  "metadata": {
    "colab": {
      "name": "OneHotEncoding.ipynb",
      "provenance": [],
      "authorship_tag": "ABX9TyPCv/HcBprXXGTBJFx05rZZ",
      "include_colab_link": true
    },
    "kernelspec": {
      "name": "python3",
      "display_name": "Python 3"
    }
  },
  "cells": [
    {
      "cell_type": "markdown",
      "metadata": {
        "id": "view-in-github",
        "colab_type": "text"
      },
      "source": [
        "<a href=\"https://colab.research.google.com/github/fgia/pythonmachinelearning/blob/jupyter/OneHotEncoding.ipynb\" target=\"_parent\"><img src=\"https://colab.research.google.com/assets/colab-badge.svg\" alt=\"Open In Colab\"/></a>"
      ]
    },
    {
      "cell_type": "markdown",
      "metadata": {
        "id": "ckKDY0hk0IAw"
      },
      "source": [
        "# OneHotEncoding : gestion des catégories dans le machine learning\n",
        "\n",
        "Comment gérer des caractéristiques qui soient des chaînes de caractères et non des nombres. "
      ]
    },
    {
      "cell_type": "markdown",
      "metadata": {
        "id": "OcbkK6sQ0pnd"
      },
      "source": [
        "## Principe de base"
      ]
    },
    {
      "cell_type": "markdown",
      "metadata": {
        "id": "vp2dY8An1c_5"
      },
      "source": [
        "### Construction du jeux de données"
      ]
    },
    {
      "cell_type": "code",
      "metadata": {
        "id": "SvLukjKR1cAs",
        "outputId": "aae1683c-d295-401c-ad04-74cc2e4f070c",
        "colab": {
          "base_uri": "https://localhost:8080/",
          "height": 190
        }
      },
      "source": [
        "import pandas as pd\n",
        "colors_df = pd.DataFrame(data=[['red'],['blue'],['green'],['blue']], columns=['color'])\n",
        "print('Avant le  One Hot Encoding:')\n",
        "display(colors_df)"
      ],
      "execution_count": 1,
      "outputs": [
        {
          "output_type": "stream",
          "text": [
            "Avant le  One Hot Encoding:\n"
          ],
          "name": "stdout"
        },
        {
          "output_type": "display_data",
          "data": {
            "text/html": [
              "<div>\n",
              "<style scoped>\n",
              "    .dataframe tbody tr th:only-of-type {\n",
              "        vertical-align: middle;\n",
              "    }\n",
              "\n",
              "    .dataframe tbody tr th {\n",
              "        vertical-align: top;\n",
              "    }\n",
              "\n",
              "    .dataframe thead th {\n",
              "        text-align: right;\n",
              "    }\n",
              "</style>\n",
              "<table border=\"1\" class=\"dataframe\">\n",
              "  <thead>\n",
              "    <tr style=\"text-align: right;\">\n",
              "      <th></th>\n",
              "      <th>color</th>\n",
              "    </tr>\n",
              "  </thead>\n",
              "  <tbody>\n",
              "    <tr>\n",
              "      <th>0</th>\n",
              "      <td>red</td>\n",
              "    </tr>\n",
              "    <tr>\n",
              "      <th>1</th>\n",
              "      <td>blue</td>\n",
              "    </tr>\n",
              "    <tr>\n",
              "      <th>2</th>\n",
              "      <td>green</td>\n",
              "    </tr>\n",
              "    <tr>\n",
              "      <th>3</th>\n",
              "      <td>blue</td>\n",
              "    </tr>\n",
              "  </tbody>\n",
              "</table>\n",
              "</div>"
            ],
            "text/plain": [
              "   color\n",
              "0    red\n",
              "1   blue\n",
              "2  green\n",
              "3   blue"
            ]
          },
          "metadata": {
            "tags": []
          }
        }
      ]
    },
    {
      "cell_type": "markdown",
      "metadata": {
        "id": "V34gdPTU1G6B"
      },
      "source": [
        "### Réalisation sans keras"
      ]
    },
    {
      "cell_type": "code",
      "metadata": {
        "id": "sxZr33Iw1Gku"
      },
      "source": [
        ""
      ],
      "execution_count": 1,
      "outputs": []
    },
    {
      "cell_type": "markdown",
      "metadata": {
        "id": "tKR9iSpA1W3s"
      },
      "source": [
        "### Réalisation avec Keras"
      ]
    },
    {
      "cell_type": "code",
      "metadata": {
        "id": "U3pA3Xayy8Wv",
        "outputId": "17128ddd-30be-4c54-a7d4-6f32000e6558",
        "colab": {
          "base_uri": "https://localhost:8080/",
          "height": 207
        }
      },
      "source": [
        "# tranformation du jeux de données \"label\" dans un domaine oneHotEncoded\n",
        "from sklearn.preprocessing import OneHotEncoder\n",
        "one_hot_encoder = OneHotEncoder(sparse=False)\n",
        "one_hot_encoder.fit(colors_df)\n",
        "\n",
        "colors_df_encoded = one_hot_encoder.transform(colors_df)\n",
        "colors_df_encoded = pd.DataFrame(data=colors_df_encoded, columns=one_hot_encoder.categories_)\n",
        "print('\\nAfter One Hot Encoding:')\n",
        "display(colors_df_encoded)"
      ],
      "execution_count": 2,
      "outputs": [
        {
          "output_type": "stream",
          "text": [
            "\n",
            "After One Hot Encoding:\n"
          ],
          "name": "stdout"
        },
        {
          "output_type": "display_data",
          "data": {
            "text/html": [
              "<div>\n",
              "<style scoped>\n",
              "    .dataframe tbody tr th:only-of-type {\n",
              "        vertical-align: middle;\n",
              "    }\n",
              "\n",
              "    .dataframe tbody tr th {\n",
              "        vertical-align: top;\n",
              "    }\n",
              "\n",
              "    .dataframe thead tr th {\n",
              "        text-align: left;\n",
              "    }\n",
              "</style>\n",
              "<table border=\"1\" class=\"dataframe\">\n",
              "  <thead>\n",
              "    <tr>\n",
              "      <th></th>\n",
              "      <th>blue</th>\n",
              "      <th>green</th>\n",
              "      <th>red</th>\n",
              "    </tr>\n",
              "  </thead>\n",
              "  <tbody>\n",
              "    <tr>\n",
              "      <th>0</th>\n",
              "      <td>0.0</td>\n",
              "      <td>0.0</td>\n",
              "      <td>1.0</td>\n",
              "    </tr>\n",
              "    <tr>\n",
              "      <th>1</th>\n",
              "      <td>1.0</td>\n",
              "      <td>0.0</td>\n",
              "      <td>0.0</td>\n",
              "    </tr>\n",
              "    <tr>\n",
              "      <th>2</th>\n",
              "      <td>0.0</td>\n",
              "      <td>1.0</td>\n",
              "      <td>0.0</td>\n",
              "    </tr>\n",
              "    <tr>\n",
              "      <th>3</th>\n",
              "      <td>1.0</td>\n",
              "      <td>0.0</td>\n",
              "      <td>0.0</td>\n",
              "    </tr>\n",
              "  </tbody>\n",
              "</table>\n",
              "</div>"
            ],
            "text/plain": [
              "  blue green  red\n",
              "0  0.0   0.0  1.0\n",
              "1  1.0   0.0  0.0\n",
              "2  0.0   1.0  0.0\n",
              "3  1.0   0.0  0.0"
            ]
          },
          "metadata": {
            "tags": []
          }
        }
      ]
    },
    {
      "cell_type": "code",
      "metadata": {
        "id": "pXtgd5Qs3UHg",
        "outputId": "9f597903-c9a8-429a-b3d7-d1b5454ab5a0",
        "colab": {
          "base_uri": "https://localhost:8080/",
          "height": 85
        }
      },
      "source": [
        "# Transformation inverse du oneHotEncoded\n",
        "colors_df_decoded = one_hot_encoder.inverse_transform(colors_df_encoded)\n",
        "display(colors_df_decoded)"
      ],
      "execution_count": 3,
      "outputs": [
        {
          "output_type": "display_data",
          "data": {
            "text/plain": [
              "array([['red'],\n",
              "       ['blue'],\n",
              "       ['green'],\n",
              "       ['blue']], dtype=object)"
            ]
          },
          "metadata": {
            "tags": []
          }
        }
      ]
    },
    {
      "cell_type": "markdown",
      "metadata": {
        "id": "PbvzLlKH48FQ"
      },
      "source": [
        "### Multiple colonnes"
      ]
    },
    {
      "cell_type": "code",
      "metadata": {
        "id": "JMyjfujh5B0K",
        "outputId": "fc4f9cba-304e-4416-fed7-3c002088b9f3",
        "colab": {
          "base_uri": "https://localhost:8080/",
          "height": 190
        }
      },
      "source": [
        "multiple_colonnes_df = pd.DataFrame(data=[['red',123.2],['blue',1200.0],['green',1475.2],['blue',1452]], columns=['color','valeur'])\n",
        "print('Multiple colonnes:')\n",
        "display(multiple_colonnes_df)"
      ],
      "execution_count": 4,
      "outputs": [
        {
          "output_type": "stream",
          "text": [
            "Multiple colonnes:\n"
          ],
          "name": "stdout"
        },
        {
          "output_type": "display_data",
          "data": {
            "text/html": [
              "<div>\n",
              "<style scoped>\n",
              "    .dataframe tbody tr th:only-of-type {\n",
              "        vertical-align: middle;\n",
              "    }\n",
              "\n",
              "    .dataframe tbody tr th {\n",
              "        vertical-align: top;\n",
              "    }\n",
              "\n",
              "    .dataframe thead th {\n",
              "        text-align: right;\n",
              "    }\n",
              "</style>\n",
              "<table border=\"1\" class=\"dataframe\">\n",
              "  <thead>\n",
              "    <tr style=\"text-align: right;\">\n",
              "      <th></th>\n",
              "      <th>color</th>\n",
              "      <th>valeur</th>\n",
              "    </tr>\n",
              "  </thead>\n",
              "  <tbody>\n",
              "    <tr>\n",
              "      <th>0</th>\n",
              "      <td>red</td>\n",
              "      <td>123.2</td>\n",
              "    </tr>\n",
              "    <tr>\n",
              "      <th>1</th>\n",
              "      <td>blue</td>\n",
              "      <td>1200.0</td>\n",
              "    </tr>\n",
              "    <tr>\n",
              "      <th>2</th>\n",
              "      <td>green</td>\n",
              "      <td>1475.2</td>\n",
              "    </tr>\n",
              "    <tr>\n",
              "      <th>3</th>\n",
              "      <td>blue</td>\n",
              "      <td>1452.0</td>\n",
              "    </tr>\n",
              "  </tbody>\n",
              "</table>\n",
              "</div>"
            ],
            "text/plain": [
              "   color  valeur\n",
              "0    red   123.2\n",
              "1   blue  1200.0\n",
              "2  green  1475.2\n",
              "3   blue  1452.0"
            ]
          },
          "metadata": {
            "tags": []
          }
        }
      ]
    },
    {
      "cell_type": "code",
      "metadata": {
        "id": "dSMU399U5VPg",
        "outputId": "b19a4f27-bca2-4ba6-dd9d-24fc377966f7",
        "colab": {
          "base_uri": "https://localhost:8080/",
          "height": 275
        }
      },
      "source": [
        "# application du one hot encoding sur ce multicolonnes\n",
        "import numpy as np\n",
        "one_hot_encoder_multiple = OneHotEncoder(sparse=False) # sparse à mettre absolument\n",
        "# transform la colonne en colonnes binaires\n",
        "multiple_df_encoded = one_hot_encoder_multiple.fit_transform(multiple_colonnes_df[['color']])\n",
        "display(one_hot_encoder_multiple.categories_)\n",
        "print(\"Structure 4 x3 \")\n",
        "display(multiple_df_encoded)\n",
        "# récupère les noms des colonnes\n",
        "column_name = one_hot_encoder_multiple.get_feature_names(['color'])\n",
        "# construit un dataframe à partir du résultat en ajoutant le nom des colonnes\n",
        "multiple_df_encoded_1 = pd.DataFrame(data=multiple_df_encoded, columns=column_name)\n",
        "display(multiple_df_encoded_1)\n"
      ],
      "execution_count": 5,
      "outputs": [
        {
          "output_type": "display_data",
          "data": {
            "text/plain": [
              "[array(['blue', 'green', 'red'], dtype=object)]"
            ]
          },
          "metadata": {
            "tags": []
          }
        },
        {
          "output_type": "stream",
          "text": [
            "Structure 4 x3 \n"
          ],
          "name": "stdout"
        },
        {
          "output_type": "display_data",
          "data": {
            "text/plain": [
              "array([[0., 0., 1.],\n",
              "       [1., 0., 0.],\n",
              "       [0., 1., 0.],\n",
              "       [1., 0., 0.]])"
            ]
          },
          "metadata": {
            "tags": []
          }
        },
        {
          "output_type": "display_data",
          "data": {
            "text/html": [
              "<div>\n",
              "<style scoped>\n",
              "    .dataframe tbody tr th:only-of-type {\n",
              "        vertical-align: middle;\n",
              "    }\n",
              "\n",
              "    .dataframe tbody tr th {\n",
              "        vertical-align: top;\n",
              "    }\n",
              "\n",
              "    .dataframe thead th {\n",
              "        text-align: right;\n",
              "    }\n",
              "</style>\n",
              "<table border=\"1\" class=\"dataframe\">\n",
              "  <thead>\n",
              "    <tr style=\"text-align: right;\">\n",
              "      <th></th>\n",
              "      <th>color_blue</th>\n",
              "      <th>color_green</th>\n",
              "      <th>color_red</th>\n",
              "    </tr>\n",
              "  </thead>\n",
              "  <tbody>\n",
              "    <tr>\n",
              "      <th>0</th>\n",
              "      <td>0.0</td>\n",
              "      <td>0.0</td>\n",
              "      <td>1.0</td>\n",
              "    </tr>\n",
              "    <tr>\n",
              "      <th>1</th>\n",
              "      <td>1.0</td>\n",
              "      <td>0.0</td>\n",
              "      <td>0.0</td>\n",
              "    </tr>\n",
              "    <tr>\n",
              "      <th>2</th>\n",
              "      <td>0.0</td>\n",
              "      <td>1.0</td>\n",
              "      <td>0.0</td>\n",
              "    </tr>\n",
              "    <tr>\n",
              "      <th>3</th>\n",
              "      <td>1.0</td>\n",
              "      <td>0.0</td>\n",
              "      <td>0.0</td>\n",
              "    </tr>\n",
              "  </tbody>\n",
              "</table>\n",
              "</div>"
            ],
            "text/plain": [
              "   color_blue  color_green  color_red\n",
              "0         0.0          0.0        1.0\n",
              "1         1.0          0.0        0.0\n",
              "2         0.0          1.0        0.0\n",
              "3         1.0          0.0        0.0"
            ]
          },
          "metadata": {
            "tags": []
          }
        }
      ]
    },
    {
      "cell_type": "code",
      "metadata": {
        "id": "oQO4blah_uBL",
        "outputId": "55e1bc6e-a374-4171-abc0-1a7a7794ae45",
        "colab": {
          "base_uri": "https://localhost:8080/",
          "height": 173
        }
      },
      "source": [
        "# enleve la précédente colonne couleur qui ne sert plus\n",
        "multiples_colonnes_df_simple = multiple_colonnes_df.drop('color',1)\n",
        "# concatène les deux dataframes pour faire un dataframe en entrée\n",
        "df_final = pd.merge(multiples_colonnes_df_simple,multiple_df_encoded_1, right_index=True, left_index=True)\n",
        "display(df_final)"
      ],
      "execution_count": 6,
      "outputs": [
        {
          "output_type": "display_data",
          "data": {
            "text/html": [
              "<div>\n",
              "<style scoped>\n",
              "    .dataframe tbody tr th:only-of-type {\n",
              "        vertical-align: middle;\n",
              "    }\n",
              "\n",
              "    .dataframe tbody tr th {\n",
              "        vertical-align: top;\n",
              "    }\n",
              "\n",
              "    .dataframe thead th {\n",
              "        text-align: right;\n",
              "    }\n",
              "</style>\n",
              "<table border=\"1\" class=\"dataframe\">\n",
              "  <thead>\n",
              "    <tr style=\"text-align: right;\">\n",
              "      <th></th>\n",
              "      <th>valeur</th>\n",
              "      <th>color_blue</th>\n",
              "      <th>color_green</th>\n",
              "      <th>color_red</th>\n",
              "    </tr>\n",
              "  </thead>\n",
              "  <tbody>\n",
              "    <tr>\n",
              "      <th>0</th>\n",
              "      <td>123.2</td>\n",
              "      <td>0.0</td>\n",
              "      <td>0.0</td>\n",
              "      <td>1.0</td>\n",
              "    </tr>\n",
              "    <tr>\n",
              "      <th>1</th>\n",
              "      <td>1200.0</td>\n",
              "      <td>1.0</td>\n",
              "      <td>0.0</td>\n",
              "      <td>0.0</td>\n",
              "    </tr>\n",
              "    <tr>\n",
              "      <th>2</th>\n",
              "      <td>1475.2</td>\n",
              "      <td>0.0</td>\n",
              "      <td>1.0</td>\n",
              "      <td>0.0</td>\n",
              "    </tr>\n",
              "    <tr>\n",
              "      <th>3</th>\n",
              "      <td>1452.0</td>\n",
              "      <td>1.0</td>\n",
              "      <td>0.0</td>\n",
              "      <td>0.0</td>\n",
              "    </tr>\n",
              "  </tbody>\n",
              "</table>\n",
              "</div>"
            ],
            "text/plain": [
              "   valeur  color_blue  color_green  color_red\n",
              "0   123.2         0.0          0.0        1.0\n",
              "1  1200.0         1.0          0.0        0.0\n",
              "2  1475.2         0.0          1.0        0.0\n",
              "3  1452.0         1.0          0.0        0.0"
            ]
          },
          "metadata": {
            "tags": []
          }
        }
      ]
    },
    {
      "cell_type": "code",
      "metadata": {
        "id": "-9-12gLwBs7O",
        "outputId": "770fe686-29b1-4faf-978f-e4cdb6b33da5",
        "colab": {
          "base_uri": "https://localhost:8080/",
          "height": 34
        }
      },
      "source": [
        "display(df_final.columns)"
      ],
      "execution_count": 7,
      "outputs": [
        {
          "output_type": "display_data",
          "data": {
            "text/plain": [
              "Index(['valeur', 'color_blue', 'color_green', 'color_red'], dtype='object')"
            ]
          },
          "metadata": {
            "tags": []
          }
        }
      ]
    },
    {
      "cell_type": "markdown",
      "metadata": {
        "id": "06g8xrNND4YY"
      },
      "source": [
        "# OneHotEncoding au niveau d'une phrase"
      ]
    },
    {
      "cell_type": "markdown",
      "metadata": {
        "id": "_rF3dnqoGG2V"
      },
      "source": [
        "## Découper une phrase"
      ]
    },
    {
      "cell_type": "code",
      "metadata": {
        "id": "nl5-BKI9D-wg"
      },
      "source": [
        "# Construction du dataset\n",
        "sentences = ['My cat is stupid','The cat is blue','Cat and dogs are friends','Dogs smell']"
      ],
      "execution_count": 8,
      "outputs": []
    },
    {
      "cell_type": "code",
      "metadata": {
        "id": "ZVKiOUuDETv0",
        "outputId": "da73e31a-03f4-40d2-e8d6-f86e85c955a0",
        "colab": {
          "base_uri": "https://localhost:8080/",
          "height": 221
        }
      },
      "source": [
        "from keras.preprocessing.text import Tokenizer\n",
        "tokenizer = Tokenizer(num_words=1000)\n",
        "tokenizer.fit_on_texts(sentences)\n",
        "sequences_t = tokenizer.texts_to_sequences(sentences)\n",
        "word_index = tokenizer.word_index\n",
        "display(sequences_t)\n",
        "display(word_index)"
      ],
      "execution_count": 9,
      "outputs": [
        {
          "output_type": "display_data",
          "data": {
            "text/plain": [
              "[[4, 1, 2, 5], [6, 1, 2, 7], [1, 8, 3, 9, 10], [3, 11]]"
            ]
          },
          "metadata": {
            "tags": []
          }
        },
        {
          "output_type": "display_data",
          "data": {
            "text/plain": [
              "{'and': 8,\n",
              " 'are': 9,\n",
              " 'blue': 7,\n",
              " 'cat': 1,\n",
              " 'dogs': 3,\n",
              " 'friends': 10,\n",
              " 'is': 2,\n",
              " 'my': 4,\n",
              " 'smell': 11,\n",
              " 'stupid': 5,\n",
              " 'the': 6}"
            ]
          },
          "metadata": {
            "tags": []
          }
        }
      ]
    },
    {
      "cell_type": "code",
      "metadata": {
        "id": "VmB24U7t7hV8",
        "outputId": "2a385c71-0fef-4bdc-d002-035cc0758a63",
        "colab": {
          "base_uri": "https://localhost:8080/",
          "height": 102
        }
      },
      "source": [
        "# transformation en une matrice composée de zéro et de 1\n",
        "\n",
        "def vectorize_sequence(asequences, dimension=10000):\n",
        "  print(asequences)\n",
        "  # création d'une matrice ne contenant que des zéros\n",
        "  results = np.zeros((len(asequences),dimension))\n",
        "  #initialisaiton à 1 des colonnes correspondant aux mots\n",
        "  for i, seq in enumerate(asequences):\n",
        "    results[i,seq] = 1\n",
        "  return results\n",
        "\n",
        "array_sequence = vectorize_sequence(sequences_t,len(word_index.keys())+1)\n",
        "print(array_sequence)"
      ],
      "execution_count": 10,
      "outputs": [
        {
          "output_type": "stream",
          "text": [
            "[[4, 1, 2, 5], [6, 1, 2, 7], [1, 8, 3, 9, 10], [3, 11]]\n",
            "[[0. 1. 1. 0. 1. 1. 0. 0. 0. 0. 0. 0.]\n",
            " [0. 1. 1. 0. 0. 0. 1. 1. 0. 0. 0. 0.]\n",
            " [0. 1. 0. 1. 0. 0. 0. 0. 1. 1. 1. 0.]\n",
            " [0. 0. 0. 1. 0. 0. 0. 0. 0. 0. 0. 1.]]\n"
          ],
          "name": "stdout"
        }
      ]
    },
    {
      "cell_type": "code",
      "metadata": {
        "id": "Xqgo6orV-FV8",
        "outputId": "d08ddf4b-35ca-4a93-9775-0ac3691081fe",
        "colab": {
          "base_uri": "https://localhost:8080/",
          "height": 85
        }
      },
      "source": [
        "x = np.asarray(array_sequence).astype('float32')\n",
        "print(x)"
      ],
      "execution_count": 11,
      "outputs": [
        {
          "output_type": "stream",
          "text": [
            "[[0. 1. 1. 0. 1. 1. 0. 0. 0. 0. 0. 0.]\n",
            " [0. 1. 1. 0. 0. 0. 1. 1. 0. 0. 0. 0.]\n",
            " [0. 1. 0. 1. 0. 0. 0. 0. 1. 1. 1. 0.]\n",
            " [0. 0. 0. 1. 0. 0. 0. 0. 0. 0. 0. 1.]]\n"
          ],
          "name": "stdout"
        }
      ]
    }
  ]
}